{
 "cells": [
  {
   "cell_type": "code",
   "execution_count": 1,
   "metadata": {},
   "outputs": [],
   "source": [
    "#python标准数据类型：Numbers数字，String字符串，布尔计算，list列表，tuple元祖，Dic字典"
   ]
  },
  {
   "cell_type": "code",
   "execution_count": 3,
   "metadata": {},
   "outputs": [
    {
     "name": "stdout",
     "output_type": "stream",
     "text": [
      "x1,x2\n",
      "<class 'int'> <class 'float'>\n"
     ]
    }
   ],
   "source": [
    "#Number数字分为：int整数，float浮点\n",
    "x1=10\n",
    "x2=10.0\n",
    "print('x1,x2')\n",
    "print(type(x1),type(x2))\n",
    "#print()函数"
   ]
  },
  {
   "cell_type": "code",
   "execution_count": 6,
   "metadata": {},
   "outputs": [
    {
     "name": "stdout",
     "output_type": "stream",
     "text": [
      "hello world\n",
      "hehe\n",
      "a\n",
      "b\n",
      "c\n",
      "<class 'str'>\n"
     ]
    }
   ],
   "source": [
    "#字符串string 单引号 双引号 三引号（三引号可以另起一行）\n",
    "x3 = 'hello world'\n",
    "x4 = \"hehe\"\n",
    "x5 = '''a\n",
    "b\n",
    "c'''\n",
    "print(x3)\n",
    "print(x4)\n",
    "print(x5)\n",
    "print(type(x3))"
   ]
  },
  {
   "cell_type": "code",
   "execution_count": 11,
   "metadata": {},
   "outputs": [
    {
     "name": "stdout",
     "output_type": "stream",
     "text": [
      "True\n",
      "True\n",
      "False\n"
     ]
    }
   ],
   "source": [
    "#布尔型bool 如果不加print 那么只显示最后一个的结果\n",
    "a = True\n",
    "b = False\n",
    "print(a == 1)\n",
    "print(b == 0)\n",
    "print (2 > 3)"
   ]
  },
  {
   "cell_type": "code",
   "execution_count": 16,
   "metadata": {},
   "outputs": [
    {
     "name": "stdout",
     "output_type": "stream",
     "text": [
      "[1, 2, 3, 4, 5] <class 'list'>\n",
      "1 <class 'int'>\n"
     ]
    }
   ],
   "source": [
    "#list列表 支持字符，数字，字符串以包含列表（即嵌套），用中括号表示，有序对象\n",
    "lst = [1,2,3,4,5]\n",
    "print(lst,type(lst))\n",
    "lst2 = [1,2,5,'hello',[1,2,3]]\n",
    "print(lst[0],type(lst2[0]))"
   ]
  },
  {
   "cell_type": "code",
   "execution_count": 18,
   "metadata": {},
   "outputs": [
    {
     "name": "stdout",
     "output_type": "stream",
     "text": [
      "[100, 2, 3, 4, 5]\n"
     ]
    }
   ],
   "source": [
    "#元祖，用()表示，不能二次赋值，可以理解成不可变的列表（只读列表），有序对象\n",
    "tup = (1,2,3,4,5)\n",
    "lst = [1,2,3,4,5]\n",
    "lst[0]=100#lst数值可以更改\n",
    "print(lst)"
   ]
  },
  {
   "cell_type": "code",
   "execution_count": 21,
   "metadata": {},
   "outputs": [
    {
     "name": "stdout",
     "output_type": "stream",
     "text": [
      "{'a': 100, 'b': 'hello kitty'} <class 'dict'>\n"
     ]
    }
   ],
   "source": [
    "#Dic字典，用{}标识，由索引（key）和它对应的值value组成，无序对象\n",
    "dic = {'a':100,'b':'hello kitty'}\n",
    "print(dic,type(dic))"
   ]
  },
  {
   "cell_type": "code",
   "execution_count": 24,
   "metadata": {},
   "outputs": [
    {
     "name": "stdout",
     "output_type": "stream",
     "text": [
      "<class 'int'>\n",
      "10.0\n",
      "10 <class 'str'>\n"
     ]
    }
   ],
   "source": [
    "#数据类型转换，这里暂时只针对int,float,str三者\n",
    "var1 = 10\n",
    "print(type(var1))\n",
    "var2 = float(var1)\n",
    "print(var2)\n",
    "var3 = str(var1)\n",
    "print(var3,type(var3))"
   ]
  }
 ],
 "metadata": {
  "kernelspec": {
   "display_name": "Python 3",
   "language": "python",
   "name": "python3"
  },
  "language_info": {
   "codemirror_mode": {
    "name": "ipython",
    "version": 3
   },
   "file_extension": ".py",
   "mimetype": "text/x-python",
   "name": "python",
   "nbconvert_exporter": "python",
   "pygments_lexer": "ipython3",
   "version": "3.7.0"
  }
 },
 "nbformat": 4,
 "nbformat_minor": 2
}
